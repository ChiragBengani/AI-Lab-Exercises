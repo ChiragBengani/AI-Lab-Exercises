{
  "nbformat": 4,
  "nbformat_minor": 0,
  "metadata": {
    "colab": {
      "name": "Camel and Bananas.ipynb",
      "provenance": [],
      "collapsed_sections": [],
      "authorship_tag": "ABX9TyNMF9ufNuBLzNP4Msac5o+Z",
      "include_colab_link": true
    },
    "kernelspec": {
      "name": "python3",
      "display_name": "Python 3"
    },
    "language_info": {
      "name": "python"
    }
  },
  "cells": [
    {
      "cell_type": "markdown",
      "metadata": {
        "id": "view-in-github",
        "colab_type": "text"
      },
      "source": [
        "<a href=\"https://colab.research.google.com/github/ChiragBengani/AI-Lab-Exercises/blob/main/Camel_and_Bananas.ipynb\" target=\"_parent\"><img src=\"https://colab.research.google.com/assets/colab-badge.svg\" alt=\"Open In Colab\"/></a>"
      ]
    },
    {
      "cell_type": "code",
      "execution_count": null,
      "metadata": {
        "colab": {
          "base_uri": "https://localhost:8080/"
        },
        "id": "eulINg2iuOJ1",
        "outputId": "eab2fcb0-8243-45d9-8b4a-c446f8fa39b8"
      },
      "outputs": [
        {
          "output_type": "stream",
          "name": "stdout",
          "text": [
            "Final Amount of Bananas at the destination : 533\n"
          ]
        }
      ],
      "source": [
        "total= 3000\n",
        "distance= 1000\n",
        "load_capacity= 1000\n",
        "loss=0\n",
        "init=total\n",
        "for i in range(distance):\n",
        " while init>0:\n",
        "    init=init-load_capacity\n",
        "    if init==1:\n",
        "            loss=loss-1\n",
        "    loss=loss+2\n",
        " loss=loss-1\n",
        " init=total-loss\n",
        " if init==0:\n",
        "    break\n",
        "print('Final Amount of Bananas at the destination :',start)\n"
      ]
    }
  ]
}