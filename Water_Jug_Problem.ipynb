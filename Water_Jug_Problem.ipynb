{
  "nbformat": 4,
  "nbformat_minor": 0,
  "metadata": {
    "colab": {
      "name": "Water Jug Problem.ipynb",
      "provenance": [],
      "collapsed_sections": [],
      "authorship_tag": "ABX9TyOBzNGShSq5BzLbjD3XkuZ0",
      "include_colab_link": true
    },
    "kernelspec": {
      "name": "python3",
      "display_name": "Python 3"
    },
    "language_info": {
      "name": "python"
    }
  },
  "cells": [
    {
      "cell_type": "markdown",
      "metadata": {
        "id": "view-in-github",
        "colab_type": "text"
      },
      "source": [
        "<a href=\"https://colab.research.google.com/github/ChiragBengani/AI-Lab-Exercises/blob/main/Water_Jug_Problem.ipynb\" target=\"_parent\"><img src=\"https://colab.research.google.com/assets/colab-badge.svg\" alt=\"Open In Colab\"/></a>"
      ]
    },
    {
      "cell_type": "code",
      "execution_count": null,
      "metadata": {
        "colab": {
          "base_uri": "https://localhost:8080/"
        },
        "id": "uxxKpQiw4Jb6",
        "outputId": "70c41166-bba1-44dc-f5cd-ba31c759930e"
      },
      "outputs": [
        {
          "output_type": "stream",
          "name": "stdout",
          "text": [
            "Initiating Problem.... \n",
            "\n",
            "(12, 0, 0)\n",
            "(4, 8, 0)\n",
            "(0, 8, 4)\n",
            "(8, 0, 4)\n",
            "(8, 4, 0)\n",
            "(3, 4, 5)\n",
            "(3, 8, 1)\n",
            "(11, 0, 1)\n",
            "(11, 1, 0)\n",
            "(6, 1, 5)\n",
            "(6, 6, 0)\n"
          ]
        }
      ],
      "source": [
        "capacity = (12,8,5) \n",
        "# Maximum capacities of 3 jugs -> x,y,z\n",
        "x = capacity[0]\n",
        "y = capacity[1]\n",
        "z = capacity[2]\n",
        "\n",
        "# to mark visited states\n",
        "memory = {}\n",
        "\n",
        "# store solution path\n",
        "ans = []\n",
        "\n",
        "def get_all_states(state):\n",
        "\t# Let the 3 jugs be called a,b,c\n",
        "\ta = state[0]\n",
        "\tb = state[1]\n",
        "\tc = state[2]\n",
        "\n",
        "\tif(a==6 and b==6):\n",
        "\t\tans.append(state)\n",
        "\t\treturn True\n",
        "\n",
        "\t# if current state is already visited earlier\n",
        "\tif((a,b,c) in memory):\n",
        "\t\treturn False\n",
        "\n",
        "\tmemory[(a,b,c)] = 1\n",
        "\n",
        "\t#empty jug a\n",
        "\tif(a>0):\n",
        "\t\t#empty a into b\n",
        "\t\tif(a+b<=y):\n",
        "\t\t\tif( get_all_states((0,a+b,c)) ):\n",
        "\t\t\t\tans.append(state)\n",
        "\t\t\t\treturn True\n",
        "\t\telse:\n",
        "\t\t\tif( get_all_states((a-(y-b), y, c)) ):\n",
        "\t\t\t\tans.append(state)\n",
        "\t\t\t\treturn True\n",
        "\t\t#empty a into c\n",
        "\t\tif(a+c<=z):\n",
        "\t\t\tif( get_all_states((0,b,a+c)) ):\n",
        "\t\t\t\tans.append(state)\n",
        "\t\t\t\treturn True\n",
        "\t\telse:\n",
        "\t\t\tif( get_all_states((a-(z-c), b, z)) ):\n",
        "\t\t\t\tans.append(state)\n",
        "\t\t\t\treturn True\n",
        "\n",
        "\t#empty jug b\n",
        "\tif(b>0):\n",
        "\t\t#empty b into a\n",
        "\t\tif(a+b<=x):\n",
        "\t\t\tif( get_all_states((a+b, 0, c)) ):\n",
        "\t\t\t\tans.append(state)\n",
        "\t\t\t\treturn True\n",
        "\t\telse:\n",
        "\t\t\tif( get_all_states((x, b-(x-a), c)) ):\n",
        "\t\t\t\tans.append(state)\n",
        "\t\t\t\treturn True\n",
        "\t\t#empty b into c\n",
        "\t\tif(b+c<=z):\n",
        "\t\t\tif( get_all_states((a, 0, b+c)) ):\n",
        "\t\t\t\tans.append(state)\n",
        "\t\t\t\treturn True\n",
        "\t\telse:\n",
        "\t\t\tif( get_all_states((a, b-(z-c), z)) ):\n",
        "\t\t\t\tans.append(state)\n",
        "\t\t\t\treturn True\n",
        "\n",
        "\t#empty jug c\n",
        "\tif(c>0):\n",
        "\t\t#empty c into a\n",
        "\t\tif(a+c<=x):\n",
        "\t\t\tif( get_all_states((a+c, b, 0)) ):\n",
        "\t\t\t\tans.append(state)\n",
        "\t\t\t\treturn True\n",
        "\t\telse:\n",
        "\t\t\tif( get_all_states((x, b, c-(x-a))) ):\n",
        "\t\t\t\tans.append(state)\n",
        "\t\t\t\treturn True\n",
        "\t\t#empty c into b\n",
        "\t\tif(b+c<=y):\n",
        "\t\t\tif( get_all_states((a, b+c, 0)) ):\n",
        "\t\t\t\tans.append(state)\n",
        "\t\t\t\treturn True\n",
        "\t\telse:\n",
        "\t\t\tif( get_all_states((a, y, c-(y-b))) ):\n",
        "\t\t\t\tans.append(state)\n",
        "\t\t\t\treturn True\n",
        "\n",
        "\treturn False\n",
        "\n",
        "initial_state = (12,0,0)\n",
        "print('Initiating Problem.... \\n')\n",
        "get_all_states(initial_state)\n",
        "ans.reverse()\n",
        "for i in ans:\n",
        "\tprint(i)\n",
        "\n",
        "\n",
        "\n",
        "\n"
      ]
    }
  ]
}